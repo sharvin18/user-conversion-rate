{
  "nbformat": 4,
  "nbformat_minor": 0,
  "metadata": {
    "kernelspec": {
      "display_name": "Python 3",
      "language": "python",
      "name": "python3"
    },
    "language_info": {
      "codemirror_mode": {
        "name": "ipython",
        "version": 3
      },
      "file_extension": ".py",
      "mimetype": "text/x-python",
      "name": "python",
      "nbconvert_exporter": "python",
      "pygments_lexer": "ipython3",
      "version": "3.6.9"
    },
    "colab": {
      "name": "Logistic Regression.ipynb",
      "provenance": []
    }
  },
  "cells": [
    {
      "cell_type": "markdown",
      "metadata": {
        "id": "EKDw6gMFVuVw"
      },
      "source": [
        "\n",
        "# Logistic Regression\n"
      ]
    },
    {
      "cell_type": "markdown",
      "metadata": {
        "id": "c69XQ1iSVuV6"
      },
      "source": [
        "## About"
      ]
    },
    {
      "cell_type": "markdown",
      "metadata": {
        "id": "UgedTwpsVuV8"
      },
      "source": [
        "Logistic Regression is a ‘Statistical Learning’ technique categorized in ‘Supervised’ Machine Learning (ML) methods dedicated to ‘Classification’ tasks."
      ]
    },
    {
      "cell_type": "code",
      "metadata": {
        "id": "3nRs-o9UVuV_"
      },
      "source": [
        "from IPython.display import Image\n",
        "Image('/Users/avimanur0/logistic_regression.png')"
      ],
      "execution_count": null,
      "outputs": []
    },
    {
      "cell_type": "markdown",
      "metadata": {
        "id": "V5d-scJeVuWF"
      },
      "source": [
        "## Implementation"
      ]
    },
    {
      "cell_type": "code",
      "metadata": {
        "id": "wGmh3uoOVuWH"
      },
      "source": [
        "import numpy as np\n",
        "import pandas as pd\n",
        "import matplotlib.pyplot as plt\n",
        "plt.style.use('ggplot')\n",
        "from sklearn import metrics\n",
        "from sklearn.metrics import plot_confusion_matrix\n",
        "%matplotlib inline"
      ],
      "execution_count": 1,
      "outputs": []
    },
    {
      "cell_type": "markdown",
      "metadata": {
        "id": "qIaeYj1KVuWM"
      },
      "source": [
        "### Import data"
      ]
    },
    {
      "cell_type": "code",
      "metadata": {
        "id": "x4-aAUV9VuWN"
      },
      "source": [
        "#read the data\n",
        "df = pd.read_csv('conversion_data.csv')"
      ],
      "execution_count": 3,
      "outputs": []
    },
    {
      "cell_type": "code",
      "metadata": {
        "colab": {
          "base_uri": "https://localhost:8080/"
        },
        "id": "N_mgekcqVuWP",
        "outputId": "46051dd5-519d-4229-d778-72fd11042569"
      },
      "source": [
        "df.columns"
      ],
      "execution_count": 4,
      "outputs": [
        {
          "output_type": "execute_result",
          "data": {
            "text/plain": [
              "Index(['country', 'age', 'new_user', 'source', 'total_pages_visited',\n",
              "       'converted'],\n",
              "      dtype='object')"
            ]
          },
          "metadata": {},
          "execution_count": 4
        }
      ]
    },
    {
      "cell_type": "code",
      "metadata": {
        "colab": {
          "base_uri": "https://localhost:8080/",
          "height": 204
        },
        "id": "G_IZuXuDVuWS",
        "outputId": "0338556b-27b9-44fb-e830-9d77faf0775d"
      },
      "source": [
        "#sneak peek into the data\n",
        "df.head()"
      ],
      "execution_count": 5,
      "outputs": [
        {
          "output_type": "execute_result",
          "data": {
            "text/html": [
              "<div>\n",
              "<style scoped>\n",
              "    .dataframe tbody tr th:only-of-type {\n",
              "        vertical-align: middle;\n",
              "    }\n",
              "\n",
              "    .dataframe tbody tr th {\n",
              "        vertical-align: top;\n",
              "    }\n",
              "\n",
              "    .dataframe thead th {\n",
              "        text-align: right;\n",
              "    }\n",
              "</style>\n",
              "<table border=\"1\" class=\"dataframe\">\n",
              "  <thead>\n",
              "    <tr style=\"text-align: right;\">\n",
              "      <th></th>\n",
              "      <th>country</th>\n",
              "      <th>age</th>\n",
              "      <th>new_user</th>\n",
              "      <th>source</th>\n",
              "      <th>total_pages_visited</th>\n",
              "      <th>converted</th>\n",
              "    </tr>\n",
              "  </thead>\n",
              "  <tbody>\n",
              "    <tr>\n",
              "      <th>0</th>\n",
              "      <td>UK</td>\n",
              "      <td>25</td>\n",
              "      <td>1</td>\n",
              "      <td>Ads</td>\n",
              "      <td>1</td>\n",
              "      <td>0</td>\n",
              "    </tr>\n",
              "    <tr>\n",
              "      <th>1</th>\n",
              "      <td>US</td>\n",
              "      <td>23</td>\n",
              "      <td>1</td>\n",
              "      <td>Seo</td>\n",
              "      <td>5</td>\n",
              "      <td>0</td>\n",
              "    </tr>\n",
              "    <tr>\n",
              "      <th>2</th>\n",
              "      <td>US</td>\n",
              "      <td>28</td>\n",
              "      <td>1</td>\n",
              "      <td>Seo</td>\n",
              "      <td>4</td>\n",
              "      <td>0</td>\n",
              "    </tr>\n",
              "    <tr>\n",
              "      <th>3</th>\n",
              "      <td>China</td>\n",
              "      <td>39</td>\n",
              "      <td>1</td>\n",
              "      <td>Seo</td>\n",
              "      <td>5</td>\n",
              "      <td>0</td>\n",
              "    </tr>\n",
              "    <tr>\n",
              "      <th>4</th>\n",
              "      <td>US</td>\n",
              "      <td>30</td>\n",
              "      <td>1</td>\n",
              "      <td>Seo</td>\n",
              "      <td>6</td>\n",
              "      <td>0</td>\n",
              "    </tr>\n",
              "  </tbody>\n",
              "</table>\n",
              "</div>"
            ],
            "text/plain": [
              "  country  age  new_user source  total_pages_visited  converted\n",
              "0      UK   25         1    Ads                    1          0\n",
              "1      US   23         1    Seo                    5          0\n",
              "2      US   28         1    Seo                    4          0\n",
              "3   China   39         1    Seo                    5          0\n",
              "4      US   30         1    Seo                    6          0"
            ]
          },
          "metadata": {},
          "execution_count": 5
        }
      ]
    },
    {
      "cell_type": "code",
      "metadata": {
        "colab": {
          "base_uri": "https://localhost:8080/"
        },
        "id": "bezDHnMUVuWU",
        "outputId": "18d42109-e54e-4df9-ee0d-504bd463cbeb"
      },
      "source": [
        "#more details about df\n",
        "df.info()"
      ],
      "execution_count": 6,
      "outputs": [
        {
          "output_type": "stream",
          "name": "stdout",
          "text": [
            "<class 'pandas.core.frame.DataFrame'>\n",
            "RangeIndex: 48303 entries, 0 to 48302\n",
            "Data columns (total 6 columns):\n",
            " #   Column               Non-Null Count  Dtype \n",
            "---  ------               --------------  ----- \n",
            " 0   country              48303 non-null  object\n",
            " 1   age                  48303 non-null  int64 \n",
            " 2   new_user             48303 non-null  int64 \n",
            " 3   source               48303 non-null  object\n",
            " 4   total_pages_visited  48303 non-null  int64 \n",
            " 5   converted            48303 non-null  int64 \n",
            "dtypes: int64(4), object(2)\n",
            "memory usage: 2.2+ MB\n"
          ]
        }
      ]
    },
    {
      "cell_type": "code",
      "metadata": {
        "colab": {
          "base_uri": "https://localhost:8080/"
        },
        "id": "-McQmF6OVuWV",
        "outputId": "116eba53-1ef1-49cc-9602-9bb64a71f954"
      },
      "source": [
        "#target class frequency\n",
        "df.converted.value_counts()"
      ],
      "execution_count": 7,
      "outputs": [
        {
          "output_type": "execute_result",
          "data": {
            "text/plain": [
              "0    46741\n",
              "1     1562\n",
              "Name: converted, dtype: int64"
            ]
          },
          "metadata": {},
          "execution_count": 7
        }
      ]
    },
    {
      "cell_type": "code",
      "metadata": {
        "colab": {
          "base_uri": "https://localhost:8080/"
        },
        "id": "Ifhl3EiQVuWW",
        "outputId": "1d5faa85-1fcf-42d9-df5e-c6b636df88bd"
      },
      "source": [
        "10200/(306000+10200)"
      ],
      "execution_count": 8,
      "outputs": [
        {
          "output_type": "execute_result",
          "data": {
            "text/plain": [
              "0.03225806451612903"
            ]
          },
          "metadata": {},
          "execution_count": 8
        }
      ]
    },
    {
      "cell_type": "markdown",
      "metadata": {
        "id": "57RF71F-VuWX"
      },
      "source": [
        "### Preparing Data For Modeling"
      ]
    },
    {
      "cell_type": "code",
      "metadata": {
        "id": "G2wLy8n_VuWY"
      },
      "source": [
        "#dummy data for categorical variables\n",
        "df = pd.get_dummies(df, columns=['country','source'])"
      ],
      "execution_count": 9,
      "outputs": []
    },
    {
      "cell_type": "code",
      "metadata": {
        "colab": {
          "base_uri": "https://localhost:8080/",
          "height": 224
        },
        "id": "-tRSsfemVuWY",
        "outputId": "8bdeb55a-2336-44a9-e4af-e53f60494724"
      },
      "source": [
        "df.head()"
      ],
      "execution_count": 10,
      "outputs": [
        {
          "output_type": "execute_result",
          "data": {
            "text/html": [
              "<div>\n",
              "<style scoped>\n",
              "    .dataframe tbody tr th:only-of-type {\n",
              "        vertical-align: middle;\n",
              "    }\n",
              "\n",
              "    .dataframe tbody tr th {\n",
              "        vertical-align: top;\n",
              "    }\n",
              "\n",
              "    .dataframe thead th {\n",
              "        text-align: right;\n",
              "    }\n",
              "</style>\n",
              "<table border=\"1\" class=\"dataframe\">\n",
              "  <thead>\n",
              "    <tr style=\"text-align: right;\">\n",
              "      <th></th>\n",
              "      <th>age</th>\n",
              "      <th>new_user</th>\n",
              "      <th>total_pages_visited</th>\n",
              "      <th>converted</th>\n",
              "      <th>country_China</th>\n",
              "      <th>country_Germany</th>\n",
              "      <th>country_UK</th>\n",
              "      <th>country_US</th>\n",
              "      <th>source_Ads</th>\n",
              "      <th>source_Direct</th>\n",
              "      <th>source_Seo</th>\n",
              "    </tr>\n",
              "  </thead>\n",
              "  <tbody>\n",
              "    <tr>\n",
              "      <th>0</th>\n",
              "      <td>25</td>\n",
              "      <td>1</td>\n",
              "      <td>1</td>\n",
              "      <td>0</td>\n",
              "      <td>0</td>\n",
              "      <td>0</td>\n",
              "      <td>1</td>\n",
              "      <td>0</td>\n",
              "      <td>1</td>\n",
              "      <td>0</td>\n",
              "      <td>0</td>\n",
              "    </tr>\n",
              "    <tr>\n",
              "      <th>1</th>\n",
              "      <td>23</td>\n",
              "      <td>1</td>\n",
              "      <td>5</td>\n",
              "      <td>0</td>\n",
              "      <td>0</td>\n",
              "      <td>0</td>\n",
              "      <td>0</td>\n",
              "      <td>1</td>\n",
              "      <td>0</td>\n",
              "      <td>0</td>\n",
              "      <td>1</td>\n",
              "    </tr>\n",
              "    <tr>\n",
              "      <th>2</th>\n",
              "      <td>28</td>\n",
              "      <td>1</td>\n",
              "      <td>4</td>\n",
              "      <td>0</td>\n",
              "      <td>0</td>\n",
              "      <td>0</td>\n",
              "      <td>0</td>\n",
              "      <td>1</td>\n",
              "      <td>0</td>\n",
              "      <td>0</td>\n",
              "      <td>1</td>\n",
              "    </tr>\n",
              "    <tr>\n",
              "      <th>3</th>\n",
              "      <td>39</td>\n",
              "      <td>1</td>\n",
              "      <td>5</td>\n",
              "      <td>0</td>\n",
              "      <td>1</td>\n",
              "      <td>0</td>\n",
              "      <td>0</td>\n",
              "      <td>0</td>\n",
              "      <td>0</td>\n",
              "      <td>0</td>\n",
              "      <td>1</td>\n",
              "    </tr>\n",
              "    <tr>\n",
              "      <th>4</th>\n",
              "      <td>30</td>\n",
              "      <td>1</td>\n",
              "      <td>6</td>\n",
              "      <td>0</td>\n",
              "      <td>0</td>\n",
              "      <td>0</td>\n",
              "      <td>0</td>\n",
              "      <td>1</td>\n",
              "      <td>0</td>\n",
              "      <td>0</td>\n",
              "      <td>1</td>\n",
              "    </tr>\n",
              "  </tbody>\n",
              "</table>\n",
              "</div>"
            ],
            "text/plain": [
              "   age  new_user  total_pages_visited  ...  source_Ads  source_Direct  source_Seo\n",
              "0   25         1                    1  ...           1              0           0\n",
              "1   23         1                    5  ...           0              0           1\n",
              "2   28         1                    4  ...           0              0           1\n",
              "3   39         1                    5  ...           0              0           1\n",
              "4   30         1                    6  ...           0              0           1\n",
              "\n",
              "[5 rows x 11 columns]"
            ]
          },
          "metadata": {},
          "execution_count": 10
        }
      ]
    },
    {
      "cell_type": "code",
      "metadata": {
        "colab": {
          "base_uri": "https://localhost:8080/"
        },
        "id": "_EbOWhAzVuWZ",
        "outputId": "d7c6b594-52db-409e-e64c-0af497531ceb"
      },
      "source": [
        "df.info()"
      ],
      "execution_count": 11,
      "outputs": [
        {
          "output_type": "stream",
          "name": "stdout",
          "text": [
            "<class 'pandas.core.frame.DataFrame'>\n",
            "RangeIndex: 48303 entries, 0 to 48302\n",
            "Data columns (total 11 columns):\n",
            " #   Column               Non-Null Count  Dtype\n",
            "---  ------               --------------  -----\n",
            " 0   age                  48303 non-null  int64\n",
            " 1   new_user             48303 non-null  int64\n",
            " 2   total_pages_visited  48303 non-null  int64\n",
            " 3   converted            48303 non-null  int64\n",
            " 4   country_China        48303 non-null  uint8\n",
            " 5   country_Germany      48303 non-null  uint8\n",
            " 6   country_UK           48303 non-null  uint8\n",
            " 7   country_US           48303 non-null  uint8\n",
            " 8   source_Ads           48303 non-null  uint8\n",
            " 9   source_Direct        48303 non-null  uint8\n",
            " 10  source_Seo           48303 non-null  uint8\n",
            "dtypes: int64(4), uint8(7)\n",
            "memory usage: 1.8 MB\n"
          ]
        }
      ]
    },
    {
      "cell_type": "code",
      "metadata": {
        "colab": {
          "base_uri": "https://localhost:8080/"
        },
        "id": "3IByjStBVuWa",
        "outputId": "fee09d61-bc7f-4307-a5bd-ec213d42e5a8"
      },
      "source": [
        "input_columns = [column for column in df.columns if column != 'converted']\n",
        "output_column = 'converted'\n",
        "print (input_columns)\n",
        "print (output_column)"
      ],
      "execution_count": 12,
      "outputs": [
        {
          "output_type": "stream",
          "name": "stdout",
          "text": [
            "['age', 'new_user', 'total_pages_visited', 'country_China', 'country_Germany', 'country_UK', 'country_US', 'source_Ads', 'source_Direct', 'source_Seo']\n",
            "converted\n"
          ]
        }
      ]
    },
    {
      "cell_type": "code",
      "metadata": {
        "scrolled": true,
        "colab": {
          "base_uri": "https://localhost:8080/"
        },
        "id": "GXrA43gNVuWb",
        "outputId": "a1647048-ce21-442c-875e-ecd412e65920"
      },
      "source": [
        "#input data\n",
        "X = df.loc[:,input_columns].values\n",
        "#output data \n",
        "y = df.loc[:,output_column]\n",
        "#shape of input and output dataset\n",
        "print (X.shape, y.shape)"
      ],
      "execution_count": 13,
      "outputs": [
        {
          "output_type": "stream",
          "name": "stdout",
          "text": [
            "(48303, 10) (48303,)\n"
          ]
        }
      ]
    },
    {
      "cell_type": "markdown",
      "metadata": {
        "id": "vh42pXIoVuWc"
      },
      "source": [
        "### Modeling : Logistic Regression"
      ]
    },
    {
      "cell_type": "code",
      "metadata": {
        "id": "IkUMfNe8VuWc"
      },
      "source": [
        "#import model specific libraries\n",
        "from sklearn.model_selection import train_test_split\n",
        "from sklearn.linear_model import LogisticRegression"
      ],
      "execution_count": 14,
      "outputs": []
    },
    {
      "cell_type": "code",
      "metadata": {
        "id": "6Z2y9-SRVuWd"
      },
      "source": [
        "#Split the data into training and test data (70/30 ratio)\n",
        "X_train,X_test,y_train,y_test=train_test_split(X,y,test_size=0.3, random_state=100, stratify=y)\n"
      ],
      "execution_count": 15,
      "outputs": []
    },
    {
      "cell_type": "code",
      "metadata": {
        "colab": {
          "base_uri": "https://localhost:8080/"
        },
        "id": "e-fK2nfwVuWf",
        "outputId": "bebb5db3-6ee9-4ad4-97c7-93a206299a52"
      },
      "source": [
        "#validate the shape of train and test dataset\n",
        "print (X_train.shape)\n",
        "print (y_train.shape)\n",
        "\n",
        "print (X_test.shape)\n",
        "print (y_test.shape)"
      ],
      "execution_count": 17,
      "outputs": [
        {
          "output_type": "stream",
          "name": "stdout",
          "text": [
            "(33812, 10)\n",
            "(33812,)\n",
            "(14491, 10)\n",
            "(14491,)\n"
          ]
        }
      ]
    },
    {
      "cell_type": "code",
      "metadata": {
        "colab": {
          "base_uri": "https://localhost:8080/"
        },
        "id": "lWruWlcqVuWg",
        "outputId": "53e287e0-20dd-4771-ffa2-141eb19513f0"
      },
      "source": [
        "y_train.value_counts()"
      ],
      "execution_count": 18,
      "outputs": [
        {
          "output_type": "execute_result",
          "data": {
            "text/plain": [
              "0    32719\n",
              "1     1093\n",
              "Name: converted, dtype: int64"
            ]
          },
          "metadata": {},
          "execution_count": 18
        }
      ]
    },
    {
      "cell_type": "code",
      "metadata": {
        "colab": {
          "base_uri": "https://localhost:8080/"
        },
        "id": "xY6YVzZ8VuWh",
        "outputId": "2a678e25-1a40-43c1-e7a1-f2ac3d0e9a3e"
      },
      "source": [
        "y_test.value_counts()"
      ],
      "execution_count": 16,
      "outputs": [
        {
          "output_type": "execute_result",
          "data": {
            "text/plain": [
              "0    14022\n",
              "1      469\n",
              "Name: converted, dtype: int64"
            ]
          },
          "metadata": {},
          "execution_count": 16
        }
      ]
    },
    {
      "cell_type": "code",
      "metadata": {
        "colab": {
          "base_uri": "https://localhost:8080/"
        },
        "id": "7i5pkA7aVuWi",
        "outputId": "803c661b-1ea2-49e4-a3dc-d342d1f4c7c6"
      },
      "source": [
        "#check on number of positive classes in train and test data set\n",
        "print(np.sum(y_train))\n",
        "print(np.sum(y_test))"
      ],
      "execution_count": 19,
      "outputs": [
        {
          "output_type": "stream",
          "name": "stdout",
          "text": [
            "1093\n",
            "469\n"
          ]
        }
      ]
    },
    {
      "cell_type": "markdown",
      "metadata": {
        "id": "YaXZ66lsVuWm"
      },
      "source": [
        "### Model Training"
      ]
    },
    {
      "cell_type": "code",
      "metadata": {
        "colab": {
          "base_uri": "https://localhost:8080/"
        },
        "id": "8OpIEuomVuWn",
        "outputId": "c1aa28bc-1ef1-46e4-8831-97e5c0c3ef60"
      },
      "source": [
        "#fit the logisitc regression model on training dataset \n",
        "logreg = LogisticRegression().fit(X_train,y_train)"
      ],
      "execution_count": 20,
      "outputs": [
        {
          "output_type": "stream",
          "name": "stderr",
          "text": [
            "/usr/local/lib/python3.7/dist-packages/sklearn/linear_model/_logistic.py:940: ConvergenceWarning: lbfgs failed to converge (status=1):\n",
            "STOP: TOTAL NO. of ITERATIONS REACHED LIMIT.\n",
            "\n",
            "Increase the number of iterations (max_iter) or scale the data as shown in:\n",
            "    https://scikit-learn.org/stable/modules/preprocessing.html\n",
            "Please also refer to the documentation for alternative solver options:\n",
            "    https://scikit-learn.org/stable/modules/linear_model.html#logistic-regression\n",
            "  extra_warning_msg=_LOGISTIC_SOLVER_CONVERGENCE_MSG)\n"
          ]
        }
      ]
    },
    {
      "cell_type": "code",
      "metadata": {
        "id": "5AY_2c0GVuWn"
      },
      "source": [
        "y_train_pred = logreg.predict(X_train)\n",
        "y_test_pred = logreg.predict(X_test)"
      ],
      "execution_count": 21,
      "outputs": []
    },
    {
      "cell_type": "markdown",
      "metadata": {
        "id": "ebKmvr-6VuWo"
      },
      "source": [
        "### Model Evaluation"
      ]
    },
    {
      "cell_type": "markdown",
      "metadata": {
        "id": "whj_mSLFVuWp"
      },
      "source": [
        "**Classification accuracy:** percentage of correct predictions"
      ]
    },
    {
      "cell_type": "code",
      "metadata": {
        "colab": {
          "base_uri": "https://localhost:8080/"
        },
        "id": "rhdNZuofVuWq",
        "outputId": "0e2333b7-fd13-4083-e246-bdfb6772b65d"
      },
      "source": [
        "print(metrics.accuracy_score(y_train, y_train_pred))\n",
        "print(metrics.accuracy_score(y_test, y_test_pred))"
      ],
      "execution_count": 22,
      "outputs": [
        {
          "output_type": "stream",
          "name": "stdout",
          "text": [
            "0.9862770613983202\n",
            "0.986060313297909\n"
          ]
        }
      ]
    },
    {
      "cell_type": "code",
      "metadata": {
        "colab": {
          "base_uri": "https://localhost:8080/"
        },
        "id": "DIJ2RDhYVuWr",
        "outputId": "c62646a6-d86f-41ca-85d8-118ea4a7da73"
      },
      "source": [
        "print(metrics.roc_auc_score(y_train, y_train_pred))\n",
        "print(metrics.roc_auc_score(y_test, y_test_pred))"
      ],
      "execution_count": 23,
      "outputs": [
        {
          "output_type": "stream",
          "name": "stdout",
          "text": [
            "0.8421276775063226\n",
            "0.8330788596293549\n"
          ]
        }
      ]
    },
    {
      "cell_type": "markdown",
      "metadata": {
        "id": "rIfsRqZlVuWr"
      },
      "source": [
        "**Confusion Matrix Basics**\n",
        "\n",
        "- **True Positives (TP):** we *correctly* predicted that they *do* have diabetes\n",
        "- **True Negatives (TN):** we *correctly* predicted that they *don't* have diabetes\n",
        "- **False Positives (FP):** we *incorrectly* predicted that they *do* have diabetes (a \"Type I error\")\n",
        "- **False Negatives (FN):** we *incorrectly* predicted that they *don't* have diabetes (a \"Type II error\")"
      ]
    },
    {
      "cell_type": "code",
      "metadata": {
        "id": "1z-pjjroVuWx"
      },
      "source": [
        "train_confusion = metrics.confusion_matrix(y_train, y_train_pred)\n",
        "train_TP = train_confusion[1, 1]\n",
        "train_TN = train_confusion[0, 0]\n",
        "train_FP = train_confusion[0, 1]\n",
        "train_FN = train_confusion[1, 0]"
      ],
      "execution_count": 24,
      "outputs": []
    },
    {
      "cell_type": "code",
      "metadata": {
        "id": "Kc3OqQv2VuWy"
      },
      "source": [
        "test_confusion = metrics.confusion_matrix(y_test, y_test_pred)\n",
        "test_TP = test_confusion[1, 1]\n",
        "test_TN = test_confusion[0, 0]\n",
        "test_FP = test_confusion[0, 1]\n",
        "test_FN = test_confusion[1, 0]"
      ],
      "execution_count": 25,
      "outputs": []
    },
    {
      "cell_type": "markdown",
      "metadata": {
        "id": "lFNCV-INVuWz"
      },
      "source": [
        "Target -  If user converted or not\n",
        "\n",
        "0 - user not converted\n",
        "\n",
        "1 - converted\n",
        "\n",
        "Actuals:\n",
        "\n",
        "0 - 214200\n",
        "\n",
        "1 - 7140\n",
        "\n",
        "predictions:\n",
        "\n",
        "0 - 213355\n",
        "\n",
        "1 - 4910"
      ]
    },
    {
      "cell_type": "code",
      "metadata": {
        "colab": {
          "base_uri": "https://localhost:8080/"
        },
        "id": "sCRYb7PIVuW0",
        "outputId": "5bc17532-d863-449a-b659-22a2959803ec"
      },
      "source": [
        "213355+845"
      ],
      "execution_count": 27,
      "outputs": [
        {
          "output_type": "execute_result",
          "data": {
            "text/plain": [
              "214200"
            ]
          },
          "metadata": {},
          "execution_count": 27
        }
      ]
    },
    {
      "cell_type": "code",
      "metadata": {
        "colab": {
          "base_uri": "https://localhost:8080/"
        },
        "id": "Q-ePrkzpVuW1",
        "outputId": "7d7a4761-18b8-4f24-eec9-46da60235769"
      },
      "source": [
        "2230+4910"
      ],
      "execution_count": 28,
      "outputs": [
        {
          "output_type": "execute_result",
          "data": {
            "text/plain": [
              "7140"
            ]
          },
          "metadata": {},
          "execution_count": 28
        }
      ]
    },
    {
      "cell_type": "code",
      "metadata": {
        "scrolled": true,
        "colab": {
          "base_uri": "https://localhost:8080/"
        },
        "id": "8gmibF-iVuW2",
        "outputId": "6010a5f6-fe80-4196-b200-89d513f992e0"
      },
      "source": [
        "print(train_confusion)"
      ],
      "execution_count": 31,
      "outputs": [
        {
          "output_type": "stream",
          "name": "stdout",
          "text": [
            "[[32596   123]\n",
            " [  341   752]]\n"
          ]
        }
      ]
    },
    {
      "cell_type": "code",
      "metadata": {
        "scrolled": true,
        "colab": {
          "base_uri": "https://localhost:8080/"
        },
        "id": "yyWpKI52VuW3",
        "outputId": "08210541-d91b-4ab2-d44e-2c215809e2e3"
      },
      "source": [
        "print(test_confusion)"
      ],
      "execution_count": 30,
      "outputs": [
        {
          "output_type": "stream",
          "name": "stdout",
          "text": [
            "[[13975    47]\n",
            " [  155   314]]\n"
          ]
        }
      ]
    },
    {
      "cell_type": "markdown",
      "metadata": {
        "id": "qcnchGtOVuW4"
      },
      "source": [
        "**True and False Positive Rates**\n",
        "\n",
        "- **True Positive Rate (tpr):** When the actual value is positive, how often is the prediction correct?\n",
        "\n",
        "                           tpr = TP / FN + TP\n",
        "   \n",
        "\n",
        "- **False Positive Rate (fpr):** When the actual value is negative, how often is the prediction incorrect?\n",
        "\n",
        "                           fpr = FP / TN + FP"
      ]
    },
    {
      "cell_type": "code",
      "metadata": {
        "id": "egpkpNLUVuW4"
      },
      "source": [
        "train_fpr, train_tpr, train_thresholds = metrics.roc_curve(y_train, y_train_pred)"
      ],
      "execution_count": 33,
      "outputs": []
    },
    {
      "cell_type": "code",
      "metadata": {
        "id": "QuWz6TArVuW5"
      },
      "source": [
        "test_fpr, test_tpr, test_thresholds = metrics.roc_curve(y_test, y_test_pred)"
      ],
      "execution_count": 34,
      "outputs": []
    },
    {
      "cell_type": "code",
      "metadata": {
        "colab": {
          "base_uri": "https://localhost:8080/",
          "height": 316
        },
        "id": "uWK4t2svVuW6",
        "outputId": "e3e7237d-9d4e-42bc-d788-68ba8a253323"
      },
      "source": [
        "plt.title('Receiver Operating Characteristic')\n",
        "plt.plot(train_fpr, train_tpr, 'b')\n",
        "plt.legend(loc = 'lower right')\n",
        "plt.plot([0, 1], [0, 1],'r--')\n",
        "plt.xlim([0, 1])\n",
        "plt.ylim([0, 1])\n",
        "plt.ylabel('True Positive Rate')\n",
        "plt.xlabel('False Positive Rate')\n",
        "plt.show()"
      ],
      "execution_count": 35,
      "outputs": [
        {
          "output_type": "stream",
          "name": "stderr",
          "text": [
            "No handles with labels found to put in legend.\n"
          ]
        },
        {
          "output_type": "display_data",
          "data": {
            "image/png": "[encoded data removed]",
            "text/plain": [
              "<Figure size 432x288 with 1 Axes>"
            ]
          },
          "metadata": {
            "needs_background": "light"
          }
        }
      ]
    },
    {
      "cell_type": "code",
      "metadata": {
        "colab": {
          "base_uri": "https://localhost:8080/",
          "height": 316
        },
        "id": "SbD0rueLVuW-",
        "outputId": "86219087-fe0e-4b7b-e94c-178d29d2881e"
      },
      "source": [
        "plt.title('Receiver Operating Characteristic')\n",
        "plt.plot(test_fpr, test_tpr, 'b')\n",
        "plt.legend(loc = 'lower right')\n",
        "plt.plot([0, 1], [0, 1],'r--')\n",
        "plt.xlim([0, 1])\n",
        "plt.ylim([0, 1])\n",
        "plt.ylabel('True Positive Rate')\n",
        "plt.xlabel('False Positive Rate')\n",
        "plt.show()"
      ],
      "execution_count": 36,
      "outputs": [
        {
          "output_type": "stream",
          "name": "stderr",
          "text": [
            "No handles with labels found to put in legend.\n"
          ]
        },
        {
          "output_type": "display_data",
          "data": {
            "image/png": "[encoded data removed]",
            "text/plain": [
              "<Figure size 432x288 with 1 Axes>"
            ]
          },
          "metadata": {
            "needs_background": "light"
          }
        }
      ]
    }
  ]
}